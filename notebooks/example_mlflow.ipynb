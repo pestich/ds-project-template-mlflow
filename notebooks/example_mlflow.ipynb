{
 "cells": [
  {
   "cell_type": "code",
   "execution_count": 1,
   "metadata": {},
   "outputs": [],
   "source": [
    "# Импорт необходимых библиотек\n",
    "import mlflow\n",
    "import os\n",
    "\n",
    "from sklearn.datasets import load_diabetes\n",
    "from sklearn.model_selection import train_test_split\n",
    "from sklearn.metrics import mean_absolute_error\n",
    "from sklearn.ensemble import RandomForestRegressor\n",
    "from dotenv import load_dotenv"
   ]
  },
  {
   "cell_type": "code",
   "execution_count": 2,
   "metadata": {},
   "outputs": [
    {
     "data": {
      "text/plain": [
       "True"
      ]
     },
     "execution_count": 2,
     "metadata": {},
     "output_type": "execute_result"
    }
   ],
   "source": [
    "# Загрузка переменных окружения из файла .env\n",
    "load_dotenv()"
   ]
  },
  {
   "cell_type": "code",
   "execution_count": 3,
   "metadata": {},
   "outputs": [],
   "source": [
    "# Загрузка датасета Diabetes из scikit-learn\n",
    "df = load_diabetes()"
   ]
  },
  {
   "cell_type": "code",
   "execution_count": 4,
   "metadata": {},
   "outputs": [],
   "source": [
    "# Разделение данных на обучающий и тестовый наборы\n",
    "X_train, X_test, y_train, y_test = train_test_split(df.data, df.target)"
   ]
  },
  {
   "cell_type": "markdown",
   "metadata": {},
   "source": [
    "Ниже пример автоматического логирования эксперимента. MLflow поддерживает ряд библиотек, таких как sklearn, и будет логировать все гиперпараметры и возможные метрики. При это вы можете логировать свои специфичные метрики при помощи log_metric(). Ознакомиться со списком библиотек, поддерживаемых в автогорировании, можно по ссылке: https://mlflow.org/docs/latest/tracking.html#automatic-logging"
   ]
  },
  {
   "cell_type": "code",
   "execution_count": 5,
   "metadata": {},
   "outputs": [
    {
     "name": "stderr",
     "output_type": "stream",
     "text": [
      "2023/11/17 22:57:12 INFO mlflow.tracking.fluent: Autologging successfully enabled for sklearn.\n",
      "2023/11/17 22:57:17 WARNING mlflow.utils.autologging_utils: MLflow autologging encountered a warning: \"c:\\Users\\wilte\\OneDrive\\Рабочий стол\\projects\\ds-project-template-mlflow\\venv\\Lib\\site-packages\\_distutils_hack\\__init__.py:33: UserWarning: Setuptools is replacing distutils.\"\n"
     ]
    }
   ],
   "source": [
    "# Установка URI для отслеживания MLflow с использованием переменной окружения\n",
    "mlflow.set_tracking_uri(os.getenv(\"MLFLOW_TRACKING_URI\"))\n",
    "\n",
    "# Установка имени эксперимента в MLflow\n",
    "mlflow.set_experiment('НАЗВАНИЕ ВАШЕГО ПРОЕКТА')\n",
    "\n",
    "# # Включение автоматического логирования параметров и метрик MLflow\n",
    "mlflow.autolog()\n",
    "\n",
    "# Создание нового run в рамках эксперимента в MLflow\n",
    "with mlflow.start_run():\n",
    "    rf = RandomForestRegressor(n_estimators=100, max_depth=6, max_features=3)\n",
    "    rf.fit(X_train, y_train)\n",
    "    prediction = rf.predict(X_test)\n",
    "    # Явное логирование метрик\n",
    "    mlflow.log_metric(\"my_metric\", 0) "
   ]
  },
  {
   "cell_type": "markdown",
   "metadata": {},
   "source": [
    "Если модель из вашей библиотеки не поддерживается автологированием, то можно явно указать какие гиперпараметры и метрики нужно логировать."
   ]
  },
  {
   "cell_type": "code",
   "execution_count": 9,
   "metadata": {},
   "outputs": [],
   "source": [
    "# Создание нового run в рамках эксперимента в MLflow\n",
    "with mlflow.start_run():\n",
    "    # Задаем параметры модели\n",
    "    params = {'n_estimators':100, \n",
    "              'max_depth':6}\n",
    "    \n",
    "    # Инициализация модели RandomForestRegressor с указанными параметрами\n",
    "    rf = RandomForestRegressor(**params)\n",
    "\n",
    "    # Обучение модели на обучающих данных\n",
    "    rf.fit(X_train, y_train)\n",
    "\n",
    "    # Предсказание на тестовых данных\n",
    "    prediction = rf.predict(X_test)\n",
    "\n",
    "    # Вычисление средней абсолютной ошибки (MAE)\n",
    "    MAE = mean_absolute_error(y_test, prediction)\n",
    "\n",
    "    # Явное логирование параметров\n",
    "    mlflow.log_params(params)\n",
    "\n",
    "    # Логирование метрик\n",
    "    mlflow.log_metric(\"my_metric_MAE\", MAE)\n",
    "    \n",
    "    # Явное логирование модели\n",
    "    mlflow.sklearn.log_model(rf, 'RandomForestRegressor')"
   ]
  },
  {
   "cell_type": "code",
   "execution_count": null,
   "metadata": {},
   "outputs": [],
   "source": []
  }
 ],
 "metadata": {
  "kernelspec": {
   "display_name": "test-pr-A340GJF7-py3.11",
   "language": "python",
   "name": "python3"
  },
  "language_info": {
   "codemirror_mode": {
    "name": "ipython",
    "version": 3
   },
   "file_extension": ".py",
   "mimetype": "text/x-python",
   "name": "python",
   "nbconvert_exporter": "python",
   "pygments_lexer": "ipython3",
   "version": "3.11.2"
  }
 },
 "nbformat": 4,
 "nbformat_minor": 2
}
